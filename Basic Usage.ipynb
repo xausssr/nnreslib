{
 "cells": [
  {
   "cell_type": "markdown",
   "metadata": {},
   "source": [
    "### Imports"
   ]
  },
  {
   "cell_type": "code",
   "execution_count": 1,
   "metadata": {
    "scrolled": true
   },
   "outputs": [],
   "source": [
    "import pandas as pd\n",
    "import numpy as np\n",
    "\n",
    "# import NeuralNet class\n",
    "from somlib import NeuralNet"
   ]
  },
  {
   "cell_type": "markdown",
   "metadata": {},
   "source": [
    "# Train neural network\n",
    "load data"
   ]
  },
  {
   "cell_type": "code",
   "execution_count": 2,
   "metadata": {},
   "outputs": [],
   "source": [
    "train_data = pd.read_csv(\"data/train.csv\")\n",
    "valid_data = pd.read_csv(\"data/test.csv\")"
   ]
  },
  {
   "cell_type": "code",
   "execution_count": 3,
   "metadata": {},
   "outputs": [
    {
     "data": {
      "text/html": [
       "<div>\n",
       "<style scoped>\n",
       "    .dataframe tbody tr th:only-of-type {\n",
       "        vertical-align: middle;\n",
       "    }\n",
       "\n",
       "    .dataframe tbody tr th {\n",
       "        vertical-align: top;\n",
       "    }\n",
       "\n",
       "    .dataframe thead th {\n",
       "        text-align: right;\n",
       "    }\n",
       "</style>\n",
       "<table border=\"1\" class=\"dataframe\">\n",
       "  <thead>\n",
       "    <tr style=\"text-align: right;\">\n",
       "      <th></th>\n",
       "      <th>ACC Macro</th>\n",
       "      <th>Bangdiwala B</th>\n",
       "      <th>Bennett S</th>\n",
       "      <th>Conditional Entropy</th>\n",
       "      <th>Cross Entropy</th>\n",
       "      <th>F1 Micro</th>\n",
       "      <th>FNR Micro</th>\n",
       "      <th>FPR Micro</th>\n",
       "      <th>Gwet AC1</th>\n",
       "      <th>Hamming Loss</th>\n",
       "      <th>...</th>\n",
       "      <th>Reference Entropy</th>\n",
       "      <th>Response Entropy</th>\n",
       "      <th>Standard Error</th>\n",
       "      <th>TNR Micro</th>\n",
       "      <th>TPR Micro</th>\n",
       "      <th>mark_1</th>\n",
       "      <th>mark_2</th>\n",
       "      <th>mark_3</th>\n",
       "      <th>mark_4</th>\n",
       "      <th>mark_5</th>\n",
       "    </tr>\n",
       "  </thead>\n",
       "  <tbody>\n",
       "    <tr>\n",
       "      <th>0</th>\n",
       "      <td>0.997977</td>\n",
       "      <td>0.997977</td>\n",
       "      <td>0.995955</td>\n",
       "      <td>0.021018</td>\n",
       "      <td>0.002921</td>\n",
       "      <td>0.997977</td>\n",
       "      <td>0.002023</td>\n",
       "      <td>0.002023</td>\n",
       "      <td>0.997973</td>\n",
       "      <td>0.002023</td>\n",
       "      <td>...</td>\n",
       "      <td>-0.000000</td>\n",
       "      <td>0.021018</td>\n",
       "      <td>0.000025</td>\n",
       "      <td>0.997977</td>\n",
       "      <td>0.997977</td>\n",
       "      <td>1</td>\n",
       "      <td>0</td>\n",
       "      <td>0</td>\n",
       "      <td>0</td>\n",
       "      <td>0</td>\n",
       "    </tr>\n",
       "    <tr>\n",
       "      <th>1</th>\n",
       "      <td>0.998312</td>\n",
       "      <td>0.998309</td>\n",
       "      <td>0.996624</td>\n",
       "      <td>0.002434</td>\n",
       "      <td>0.027589</td>\n",
       "      <td>0.998312</td>\n",
       "      <td>0.001688</td>\n",
       "      <td>0.001688</td>\n",
       "      <td>0.998306</td>\n",
       "      <td>0.001688</td>\n",
       "      <td>...</td>\n",
       "      <td>0.026095</td>\n",
       "      <td>0.010551</td>\n",
       "      <td>0.000023</td>\n",
       "      <td>0.998312</td>\n",
       "      <td>0.998312</td>\n",
       "      <td>0</td>\n",
       "      <td>0</td>\n",
       "      <td>0</td>\n",
       "      <td>0</td>\n",
       "      <td>1</td>\n",
       "    </tr>\n",
       "    <tr>\n",
       "      <th>2</th>\n",
       "      <td>0.892172</td>\n",
       "      <td>0.878774</td>\n",
       "      <td>0.784344</td>\n",
       "      <td>0.487271</td>\n",
       "      <td>0.398881</td>\n",
       "      <td>0.892172</td>\n",
       "      <td>0.107828</td>\n",
       "      <td>0.107828</td>\n",
       "      <td>0.865341</td>\n",
       "      <td>0.107828</td>\n",
       "      <td>...</td>\n",
       "      <td>0.324197</td>\n",
       "      <td>0.646727</td>\n",
       "      <td>0.000175</td>\n",
       "      <td>0.892172</td>\n",
       "      <td>0.892172</td>\n",
       "      <td>0</td>\n",
       "      <td>0</td>\n",
       "      <td>0</td>\n",
       "      <td>1</td>\n",
       "      <td>0</td>\n",
       "    </tr>\n",
       "  </tbody>\n",
       "</table>\n",
       "<p>3 rows × 28 columns</p>\n",
       "</div>"
      ],
      "text/plain": [
       "   ACC Macro  Bangdiwala B  Bennett S  Conditional Entropy  Cross Entropy  \\\n",
       "0   0.997977      0.997977   0.995955             0.021018       0.002921   \n",
       "1   0.998312      0.998309   0.996624             0.002434       0.027589   \n",
       "2   0.892172      0.878774   0.784344             0.487271       0.398881   \n",
       "\n",
       "   F1 Micro  FNR Micro  FPR Micro  Gwet AC1  Hamming Loss  ...  \\\n",
       "0  0.997977   0.002023   0.002023  0.997973      0.002023  ...   \n",
       "1  0.998312   0.001688   0.001688  0.998306      0.001688  ...   \n",
       "2  0.892172   0.107828   0.107828  0.865341      0.107828  ...   \n",
       "\n",
       "   Reference Entropy  Response Entropy  Standard Error  TNR Micro  TPR Micro  \\\n",
       "0          -0.000000          0.021018        0.000025   0.997977   0.997977   \n",
       "1           0.026095          0.010551        0.000023   0.998312   0.998312   \n",
       "2           0.324197          0.646727        0.000175   0.892172   0.892172   \n",
       "\n",
       "   mark_1  mark_2  mark_3  mark_4  mark_5  \n",
       "0       1       0       0       0       0  \n",
       "1       0       0       0       0       1  \n",
       "2       0       0       0       1       0  \n",
       "\n",
       "[3 rows x 28 columns]"
      ]
     },
     "execution_count": 3,
     "metadata": {},
     "output_type": "execute_result"
    }
   ],
   "source": [
    "train_data.head(3)"
   ]
  },
  {
   "cell_type": "markdown",
   "metadata": {},
   "source": [
    "Define architecture. \n",
    "\n",
    "Architecture of neural network defining by `dict` object. \n",
    "\n",
    "Every `key` of this `dict` is name of layer, e.g. \"input\", \"layer_1\", \"first layer\", ect. This names choose by user. For each layer (`key`) `value` is another `dict`, vith keys:\n",
    "* `type`: layer type, required key; now available: \n",
    " * `\"fully_connected\"` - for fully-connected layer;\n",
    " * `\"convolution\"` - for convolution layer;\n",
    " * `\"max_pool\"` - for max pooling layer;\n",
    " * `\"flatten\"` - for reshape n-demetion tensors (for example: output of convolution layer) into vector (one-dimention object). For batch of objects reshape all objects in batch, but save first dimention $(10 \\times 5 \\times 3 \\times 2) \\rightarrow (10 \\times 30)$\n",
    " * `\"out\"` - for last fully-connected layer (e.g. output of model)\n",
    "* \"`activation\"` - non-lineary function for all layers, <u>except</u> **max pooling** and **flatten**, required key; now available: \n",
    " * `\"sigmoid\"`:\n",
    " $$ h_ \\theta (x) =  \\frac{\\mathrm{1} }{\\mathrm{1} + e^- \\theta^Tx }  $$\n",
    " * `\"tanh\"`:\n",
    " $$ tanh(x) = \\frac{e^{2x} - 1}{e^{2x} + 1}$$\n",
    " * `\"relu\"`:\n",
    " $$ReLU(x) = max(x, 0)$$\n",
    " * `\"softmax\"`:\n",
    " $$\\sigma (x)_{i} = \\frac{e^{x_{i}}}{\\sum^{K}_{k=1}{e^{x_{k}}}}$$\n",
    "* specific keys for **convolution layer**:\n",
    " * `\"filtres\"`: number of filters in convolution layer, dtype: `int`;\n",
    " * `\"kernel\"` : shape of filter (convolution kernel), this key recive list of 2 int for \"width\" and \"heigh\" of convolution kernel, dtype: `list`;\n",
    " * `\"stride\"` : stride along \"width\" and \"heigh\" for convolution operation, this key recive list of 2 int for \"width\" and \"heigh\" stride, dtype: `list`;\n",
    " * `\"pad\"` : padding input tensor with zeros along \"width\" and \"heigh\", this key recive list of 2 int for \"width\" and \"heigh\" stride, dtype: `list`;\n",
    "* specific keys for **max pooling layer**:\n",
    " * `\"kernel\"` : shape of max pooling mask, this key recive list of 2 int for \"width\" and \"heigh\" of max pooling mask, dtype: `list`;\n",
    " * `\"stride\"` : stride along \"width\" and \"heigh\" for max pooling, this key recive list of 2 int for \"width\" and \"heigh\" stride, dtype: `list`;\n",
    "* specific keys for **fully-connected layer**:\n",
    " * `\"neurons\"`: number of hidden units (neurons) into layer, dtype: `int`\n",
    "* **flatten layer** has no parameters."
   ]
  },
  {
   "cell_type": "code",
   "execution_count": 4,
   "metadata": {},
   "outputs": [],
   "source": [
    "architecture = {\n",
    "    \"input\": {\"type\": \"fully_conneted\", \"neurons\": 31, \"activation\": \"sigmoid\"},\n",
    "    \"hidden\": {\"type\": \"fully_conneted\", \"neurons\": 18, \"activation\": \"sigmoid\"},\n",
    "    \"out\": {\"type\": \"out\", \"neurons\": 5, \"activation\": \"sigmoid\"},\n",
    "}"
   ]
  },
  {
   "cell_type": "markdown",
   "metadata": {},
   "source": [
    "Define basic settings of model\n",
    "\n",
    "Settings of model is `dict` with specific keys, from this settings class `NeuralNetwork` build tensorflow computation graph. Settings have number of `\"keys\"`:\n",
    "* `\"outs\"`: number of output neurons (must match with `\"neurons\"` in `\"out\"` layer), dtype: `int`;\n",
    "* `\"batch_size\"`: batch size for trainig and runnig model, if data amount smallest than 5000 reccomend use all data in one batch, dtype: `int`;\n",
    "* `\"architecture\"`: dict with architecture (see above), dtype: `dict`;\n",
    "* `\"inputs\"`: shape of input object (ont training example), in case of fulle-connected network must bi `list` with one value, dtype: `list`"
   ]
  },
  {
   "cell_type": "code",
   "execution_count": 5,
   "metadata": {},
   "outputs": [],
   "source": [
    "batch_size = len(train_data)\n",
    "inputs_len = len(train_data.columns) - 5\n",
    "settings = {\n",
    "    \"outs\": 5,\n",
    "    \"batch_size\": batch_size,\n",
    "    \"architecture\": architecture,\n",
    "    \"inputs\": [inputs_len],\n",
    "}"
   ]
  },
  {
   "cell_type": "markdown",
   "metadata": {},
   "source": [
    "Build computation graph for neural network"
   ]
  },
  {
   "cell_type": "code",
   "execution_count": 6,
   "metadata": {},
   "outputs": [
    {
     "name": "stdout",
     "output_type": "stream",
     "text": [
      "=====>Neural net info<===== \n",
      "\n",
      "Settings: \n",
      "+------------+-------+\n",
      "|  Setting   | Value |\n",
      "+------------+-------+\n",
      "|    outs    |   5   |\n",
      "| batch_size |  240  |\n",
      "|   inputs   |  [23] |\n",
      "+------------+-------+\n",
      "\n",
      "tf version:  2.2.0 \n",
      "\n",
      "Complex:\n",
      "        [parameters]x[batch size]\n",
      "        1415x240\n",
      "\n",
      "Architecture:\n",
      "+--------+----------------+----------------+------------+\n",
      "|  Name  |      Type      | Neurons number | Activation |\n",
      "+--------+----------------+----------------+------------+\n",
      "| input  |     input      |      [23]      |     -      |\n",
      "| input  | fully_conneted |       31       |  sigmoid   |\n",
      "| hidden | fully_conneted |       18       |  sigmoid   |\n",
      "|  out   |      out       |       5        |  sigmoid   |\n",
      "+--------+----------------+----------------+------------+\n",
      "\n",
      "\n"
     ]
    }
   ],
   "source": [
    "nn = NeuralNet(settings, verbose=True)"
   ]
  },
  {
   "cell_type": "markdown",
   "metadata": {},
   "source": [
    "Train neural net"
   ]
  },
  {
   "cell_type": "code",
   "execution_count": 7,
   "metadata": {
    "scrolled": false
   },
   "outputs": [
    {
     "data": {
      "application/vnd.jupyter.widget-view+json": {
       "model_id": "8b739ae53e0c4ce5ba03e0aac31e1226",
       "version_major": 2,
       "version_minor": 0
      },
      "text/plain": [
       "VBox(children=(FigureWidget({\n",
       "    'data': [{'type': 'scatter', 'uid': '889447cb-14db-4159-8d23-b2e0f21fc90c', …"
      ]
     },
     "metadata": {},
     "output_type": "display_data"
    },
    {
     "name": "stdout",
     "output_type": "stream",
     "text": [
      "debug\n",
      " FigureWidget({\n",
      "    'data': [{'type': 'scatter', 'uid': '889447cb-14db-4159-8d23-b2e0f21fc90c', 'y': [0.002067558298276895]},\n",
      "             {'type': 'scatter', 'uid': '93d7d247-ee15-4211-ac77-7a80651f7e4d', 'y': [0.004154429289304684]}],\n",
      "    'layout': {'template': '...'}\n",
      "})\n"
     ]
    },
    {
     "ename": "KeyboardInterrupt",
     "evalue": "",
     "output_type": "error",
     "traceback": [
      "\u001b[1;31m---------------------------------------------------------------------------\u001b[0m",
      "\u001b[1;31mKeyboardInterrupt\u001b[0m                         Traceback (most recent call last)",
      "\u001b[1;32m<ipython-input-7-5111ea58ea6f>\u001b[0m in \u001b[0;36m<module>\u001b[1;34m\u001b[0m\n\u001b[1;32m----> 1\u001b[1;33m nn.fit_lm(\n\u001b[0m\u001b[0;32m      2\u001b[0m     \u001b[0mx_train\u001b[0m\u001b[1;33m=\u001b[0m\u001b[0mtrain_data\u001b[0m\u001b[1;33m.\u001b[0m\u001b[0mvalues\u001b[0m\u001b[1;33m[\u001b[0m\u001b[1;33m:\u001b[0m\u001b[1;33m,\u001b[0m \u001b[1;33m:\u001b[0m\u001b[1;33m-\u001b[0m\u001b[1;36m5\u001b[0m\u001b[1;33m]\u001b[0m\u001b[1;33m,\u001b[0m\u001b[1;33m\u001b[0m\u001b[1;33m\u001b[0m\u001b[0m\n\u001b[0;32m      3\u001b[0m     \u001b[0my_train\u001b[0m\u001b[1;33m=\u001b[0m\u001b[0mtrain_data\u001b[0m\u001b[1;33m.\u001b[0m\u001b[0mvalues\u001b[0m\u001b[1;33m[\u001b[0m\u001b[1;33m:\u001b[0m\u001b[1;33m,\u001b[0m \u001b[1;33m-\u001b[0m\u001b[1;36m5\u001b[0m\u001b[1;33m:\u001b[0m\u001b[1;33m]\u001b[0m\u001b[1;33m,\u001b[0m\u001b[1;33m\u001b[0m\u001b[1;33m\u001b[0m\u001b[0m\n\u001b[0;32m      4\u001b[0m     \u001b[0mx_valid\u001b[0m\u001b[1;33m=\u001b[0m\u001b[0mvalid_data\u001b[0m\u001b[1;33m.\u001b[0m\u001b[0mvalues\u001b[0m\u001b[1;33m[\u001b[0m\u001b[1;33m:\u001b[0m\u001b[1;33m,\u001b[0m \u001b[1;33m:\u001b[0m\u001b[1;33m-\u001b[0m\u001b[1;36m5\u001b[0m\u001b[1;33m]\u001b[0m\u001b[1;33m,\u001b[0m\u001b[1;33m\u001b[0m\u001b[1;33m\u001b[0m\u001b[0m\n\u001b[0;32m      5\u001b[0m     \u001b[0my_valid\u001b[0m\u001b[1;33m=\u001b[0m\u001b[0mvalid_data\u001b[0m\u001b[1;33m.\u001b[0m\u001b[0mvalues\u001b[0m\u001b[1;33m[\u001b[0m\u001b[1;33m:\u001b[0m\u001b[1;33m,\u001b[0m \u001b[1;33m-\u001b[0m\u001b[1;36m5\u001b[0m\u001b[1;33m:\u001b[0m\u001b[1;33m]\u001b[0m\u001b[1;33m,\u001b[0m\u001b[1;33m\u001b[0m\u001b[1;33m\u001b[0m\u001b[0m\n",
      "\u001b[1;32mC:\\Devs\\git\\LevenbergLib\\somlib.py\u001b[0m in \u001b[0;36mfit_lm\u001b[1;34m(self, x_train, y_train, x_valid, y_valid, train_test_split, mu_init, min_error, max_steps, mu_multiply, mu_divide, m_into_epoch, verbose, random_batches, plot_widget)\u001b[0m\n\u001b[0;32m    297\u001b[0m                 \u001b[0msub_epoch\u001b[0m \u001b[1;33m=\u001b[0m \u001b[1;36m0\u001b[0m\u001b[1;33m\u001b[0m\u001b[1;33m\u001b[0m\u001b[0m\n\u001b[0;32m    298\u001b[0m                 \u001b[1;32mwhile\u001b[0m \u001b[0msub_epoch\u001b[0m \u001b[1;33m<\u001b[0m \u001b[0mm_into_epoch\u001b[0m\u001b[1;33m:\u001b[0m\u001b[1;33m\u001b[0m\u001b[1;33m\u001b[0m\u001b[0m\n\u001b[1;32m--> 299\u001b[1;33m                     \u001b[0mself\u001b[0m\u001b[1;33m.\u001b[0m\u001b[0msession\u001b[0m\u001b[1;33m.\u001b[0m\u001b[0mrun\u001b[0m\u001b[1;33m(\u001b[0m\u001b[0mself\u001b[0m\u001b[1;33m.\u001b[0m\u001b[0mlm\u001b[0m\u001b[1;33m,\u001b[0m \u001b[0mtrain_dict\u001b[0m\u001b[1;33m)\u001b[0m\u001b[1;33m\u001b[0m\u001b[1;33m\u001b[0m\u001b[0m\n\u001b[0m\u001b[0;32m    300\u001b[0m                     \u001b[0mnew_loss\u001b[0m \u001b[1;33m=\u001b[0m \u001b[0mself\u001b[0m\u001b[1;33m.\u001b[0m\u001b[0msession\u001b[0m\u001b[1;33m.\u001b[0m\u001b[0mrun\u001b[0m\u001b[1;33m(\u001b[0m\u001b[0mself\u001b[0m\u001b[1;33m.\u001b[0m\u001b[0mloss\u001b[0m\u001b[1;33m,\u001b[0m \u001b[0mtrain_dict\u001b[0m\u001b[1;33m)\u001b[0m\u001b[1;33m\u001b[0m\u001b[1;33m\u001b[0m\u001b[0m\n\u001b[0;32m    301\u001b[0m                     \u001b[0msub_epoch\u001b[0m \u001b[1;33m+=\u001b[0m \u001b[1;36m1\u001b[0m\u001b[1;33m\u001b[0m\u001b[1;33m\u001b[0m\u001b[0m\n",
      "\u001b[1;32mc:\\users\\root\\appdata\\local\\programs\\python\\python38\\lib\\site-packages\\tensorflow\\python\\client\\session.py\u001b[0m in \u001b[0;36mrun\u001b[1;34m(self, fetches, feed_dict, options, run_metadata)\u001b[0m\n\u001b[0;32m    955\u001b[0m \u001b[1;33m\u001b[0m\u001b[0m\n\u001b[0;32m    956\u001b[0m     \u001b[1;32mtry\u001b[0m\u001b[1;33m:\u001b[0m\u001b[1;33m\u001b[0m\u001b[1;33m\u001b[0m\u001b[0m\n\u001b[1;32m--> 957\u001b[1;33m       result = self._run(None, fetches, feed_dict, options_ptr,\n\u001b[0m\u001b[0;32m    958\u001b[0m                          run_metadata_ptr)\n\u001b[0;32m    959\u001b[0m       \u001b[1;32mif\u001b[0m \u001b[0mrun_metadata\u001b[0m\u001b[1;33m:\u001b[0m\u001b[1;33m\u001b[0m\u001b[1;33m\u001b[0m\u001b[0m\n",
      "\u001b[1;32mc:\\users\\root\\appdata\\local\\programs\\python\\python38\\lib\\site-packages\\tensorflow\\python\\client\\session.py\u001b[0m in \u001b[0;36m_run\u001b[1;34m(self, handle, fetches, feed_dict, options, run_metadata)\u001b[0m\n\u001b[0;32m   1178\u001b[0m     \u001b[1;31m# or if the call is a partial run that specifies feeds.\u001b[0m\u001b[1;33m\u001b[0m\u001b[1;33m\u001b[0m\u001b[1;33m\u001b[0m\u001b[0m\n\u001b[0;32m   1179\u001b[0m     \u001b[1;32mif\u001b[0m \u001b[0mfinal_fetches\u001b[0m \u001b[1;32mor\u001b[0m \u001b[0mfinal_targets\u001b[0m \u001b[1;32mor\u001b[0m \u001b[1;33m(\u001b[0m\u001b[0mhandle\u001b[0m \u001b[1;32mand\u001b[0m \u001b[0mfeed_dict_tensor\u001b[0m\u001b[1;33m)\u001b[0m\u001b[1;33m:\u001b[0m\u001b[1;33m\u001b[0m\u001b[1;33m\u001b[0m\u001b[0m\n\u001b[1;32m-> 1180\u001b[1;33m       results = self._do_run(handle, final_targets, final_fetches,\n\u001b[0m\u001b[0;32m   1181\u001b[0m                              feed_dict_tensor, options, run_metadata)\n\u001b[0;32m   1182\u001b[0m     \u001b[1;32melse\u001b[0m\u001b[1;33m:\u001b[0m\u001b[1;33m\u001b[0m\u001b[1;33m\u001b[0m\u001b[0m\n",
      "\u001b[1;32mc:\\users\\root\\appdata\\local\\programs\\python\\python38\\lib\\site-packages\\tensorflow\\python\\client\\session.py\u001b[0m in \u001b[0;36m_do_run\u001b[1;34m(self, handle, target_list, fetch_list, feed_dict, options, run_metadata)\u001b[0m\n\u001b[0;32m   1356\u001b[0m \u001b[1;33m\u001b[0m\u001b[0m\n\u001b[0;32m   1357\u001b[0m     \u001b[1;32mif\u001b[0m \u001b[0mhandle\u001b[0m \u001b[1;32mis\u001b[0m \u001b[1;32mNone\u001b[0m\u001b[1;33m:\u001b[0m\u001b[1;33m\u001b[0m\u001b[1;33m\u001b[0m\u001b[0m\n\u001b[1;32m-> 1358\u001b[1;33m       return self._do_call(_run_fn, feeds, fetches, targets, options,\n\u001b[0m\u001b[0;32m   1359\u001b[0m                            run_metadata)\n\u001b[0;32m   1360\u001b[0m     \u001b[1;32melse\u001b[0m\u001b[1;33m:\u001b[0m\u001b[1;33m\u001b[0m\u001b[1;33m\u001b[0m\u001b[0m\n",
      "\u001b[1;32mc:\\users\\root\\appdata\\local\\programs\\python\\python38\\lib\\site-packages\\tensorflow\\python\\client\\session.py\u001b[0m in \u001b[0;36m_do_call\u001b[1;34m(self, fn, *args)\u001b[0m\n\u001b[0;32m   1363\u001b[0m   \u001b[1;32mdef\u001b[0m \u001b[0m_do_call\u001b[0m\u001b[1;33m(\u001b[0m\u001b[0mself\u001b[0m\u001b[1;33m,\u001b[0m \u001b[0mfn\u001b[0m\u001b[1;33m,\u001b[0m \u001b[1;33m*\u001b[0m\u001b[0margs\u001b[0m\u001b[1;33m)\u001b[0m\u001b[1;33m:\u001b[0m\u001b[1;33m\u001b[0m\u001b[1;33m\u001b[0m\u001b[0m\n\u001b[0;32m   1364\u001b[0m     \u001b[1;32mtry\u001b[0m\u001b[1;33m:\u001b[0m\u001b[1;33m\u001b[0m\u001b[1;33m\u001b[0m\u001b[0m\n\u001b[1;32m-> 1365\u001b[1;33m       \u001b[1;32mreturn\u001b[0m \u001b[0mfn\u001b[0m\u001b[1;33m(\u001b[0m\u001b[1;33m*\u001b[0m\u001b[0margs\u001b[0m\u001b[1;33m)\u001b[0m\u001b[1;33m\u001b[0m\u001b[1;33m\u001b[0m\u001b[0m\n\u001b[0m\u001b[0;32m   1366\u001b[0m     \u001b[1;32mexcept\u001b[0m \u001b[0merrors\u001b[0m\u001b[1;33m.\u001b[0m\u001b[0mOpError\u001b[0m \u001b[1;32mas\u001b[0m \u001b[0me\u001b[0m\u001b[1;33m:\u001b[0m\u001b[1;33m\u001b[0m\u001b[1;33m\u001b[0m\u001b[0m\n\u001b[0;32m   1367\u001b[0m       \u001b[0mmessage\u001b[0m \u001b[1;33m=\u001b[0m \u001b[0mcompat\u001b[0m\u001b[1;33m.\u001b[0m\u001b[0mas_text\u001b[0m\u001b[1;33m(\u001b[0m\u001b[0me\u001b[0m\u001b[1;33m.\u001b[0m\u001b[0mmessage\u001b[0m\u001b[1;33m)\u001b[0m\u001b[1;33m\u001b[0m\u001b[1;33m\u001b[0m\u001b[0m\n",
      "\u001b[1;32mc:\\users\\root\\appdata\\local\\programs\\python\\python38\\lib\\site-packages\\tensorflow\\python\\client\\session.py\u001b[0m in \u001b[0;36m_run_fn\u001b[1;34m(feed_dict, fetch_list, target_list, options, run_metadata)\u001b[0m\n\u001b[0;32m   1347\u001b[0m       \u001b[1;31m# Ensure any changes to the graph are reflected in the runtime.\u001b[0m\u001b[1;33m\u001b[0m\u001b[1;33m\u001b[0m\u001b[1;33m\u001b[0m\u001b[0m\n\u001b[0;32m   1348\u001b[0m       \u001b[0mself\u001b[0m\u001b[1;33m.\u001b[0m\u001b[0m_extend_graph\u001b[0m\u001b[1;33m(\u001b[0m\u001b[1;33m)\u001b[0m\u001b[1;33m\u001b[0m\u001b[1;33m\u001b[0m\u001b[0m\n\u001b[1;32m-> 1349\u001b[1;33m       return self._call_tf_sessionrun(options, feed_dict, fetch_list,\n\u001b[0m\u001b[0;32m   1350\u001b[0m                                       target_list, run_metadata)\n\u001b[0;32m   1351\u001b[0m \u001b[1;33m\u001b[0m\u001b[0m\n",
      "\u001b[1;32mc:\\users\\root\\appdata\\local\\programs\\python\\python38\\lib\\site-packages\\tensorflow\\python\\client\\session.py\u001b[0m in \u001b[0;36m_call_tf_sessionrun\u001b[1;34m(self, options, feed_dict, fetch_list, target_list, run_metadata)\u001b[0m\n\u001b[0;32m   1439\u001b[0m   def _call_tf_sessionrun(self, options, feed_dict, fetch_list, target_list,\n\u001b[0;32m   1440\u001b[0m                           run_metadata):\n\u001b[1;32m-> 1441\u001b[1;33m     return tf_session.TF_SessionRun_wrapper(self._session, options, feed_dict,\n\u001b[0m\u001b[0;32m   1442\u001b[0m                                             \u001b[0mfetch_list\u001b[0m\u001b[1;33m,\u001b[0m \u001b[0mtarget_list\u001b[0m\u001b[1;33m,\u001b[0m\u001b[1;33m\u001b[0m\u001b[1;33m\u001b[0m\u001b[0m\n\u001b[0;32m   1443\u001b[0m                                             run_metadata)\n",
      "\u001b[1;31mKeyboardInterrupt\u001b[0m: "
     ]
    }
   ],
   "source": [
    "nn.fit_lm(\n",
    "    x_train=train_data.values[:, :-5],\n",
    "    y_train=train_data.values[:, -5:],\n",
    "    x_valid=valid_data.values[:, :-5],\n",
    "    y_valid=valid_data.values[:, -5:],\n",
    "    mu_init=5.0,\n",
    "    min_error=2.083e-4,\n",
    "    max_steps=1000,\n",
    "    mu_multiply=10,\n",
    "    mu_divide=10,\n",
    "    m_into_epoch=5,\n",
    "    verbose=True,\n",
    "    random_batches=True,\n",
    "    plot_widget=True\n",
    ")"
   ]
  },
  {
   "cell_type": "code",
   "execution_count": null,
   "metadata": {},
   "outputs": [],
   "source": []
  }
 ],
 "metadata": {
  "kernelspec": {
   "display_name": "Python 3",
   "language": "python",
   "name": "python3"
  },
  "language_info": {
   "codemirror_mode": {
    "name": "ipython",
    "version": 3
   },
   "file_extension": ".py",
   "mimetype": "text/x-python",
   "name": "python",
   "nbconvert_exporter": "python",
   "pygments_lexer": "ipython3",
   "version": "3.8.3"
  }
 },
 "nbformat": 4,
 "nbformat_minor": 4
}
